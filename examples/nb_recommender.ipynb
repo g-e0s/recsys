{
 "cells": [
  {
   "cell_type": "code",
   "execution_count": 1,
   "metadata": {},
   "outputs": [],
   "source": [
    "import sys\n",
    "sys.path.append('/home/geos/recsys/')"
   ]
  },
  {
   "cell_type": "code",
   "execution_count": 2,
   "metadata": {},
   "outputs": [],
   "source": [
    "import pandas as pd\n",
    "from sklearn.naive_bayes import BernoulliNB\n",
    "\n",
    "from core.dataset import Dataset\n",
    "from core.model import SciPyModel, ALSRecommender\n",
    "from core.recommender import ClassificationRecommender, FactorizationRecommender\n",
    "from core.transformer import Pipeline"
   ]
  },
  {
   "cell_type": "markdown",
   "metadata": {},
   "source": [
    "### Read data"
   ]
  },
  {
   "cell_type": "code",
   "execution_count": 9,
   "metadata": {},
   "outputs": [],
   "source": [
    "INPUT_PATH = '/media/geos/KINGSTON/transactions.csv'\n",
    "OUTPUT_PATH = '/home/geos/Documents/nb_recs.csv'\n",
    "# read data\n",
    "dataset = Dataset(pd.read_csv(INPUT_PATH, nrows=None),\n",
    "                  user_col='clientGUID', item_col='groupCode',\n",
    "                  rating_col='posSum', ts_col='receiptBeginTime')\n",
    "train, test = dataset.train_test_split()"
   ]
  },
  {
   "cell_type": "code",
   "execution_count": 10,
   "metadata": {},
   "outputs": [],
   "source": [
    "# define model set\n",
    "model_set = ClassificationRecommender('nb-set')\n",
    "for item in train.items.itemID:\n",
    "    model_set.add(SciPyModel(name='nb_model_{}'.format(item), spec=BernoulliNB()))"
   ]
  },
  {
   "cell_type": "code",
   "execution_count": 11,
   "metadata": {},
   "outputs": [],
   "source": [
    "# build pipeline\n",
    "pipeline = Pipeline('nb_recommender')\n",
    "pipeline.add(model_set)"
   ]
  },
  {
   "cell_type": "code",
   "execution_count": 12,
   "metadata": {},
   "outputs": [
    {
     "name": "stderr",
     "output_type": "stream",
     "text": [
      "/home/geos/PycharmProjects/ds-env/lib/python3.5/site-packages/sklearn/naive_bayes.py:461: RuntimeWarning: divide by zero encountered in log\n",
      "  self.class_log_prior_ = (np.log(self.class_count_) -\n"
     ]
    },
    {
     "data": {
      "text/plain": [
       "nb_recommender"
      ]
     },
     "execution_count": 12,
     "metadata": {},
     "output_type": "execute_result"
    }
   ],
   "source": [
    "# run pipeline\n",
    "pipeline.fit(train)"
   ]
  },
  {
   "cell_type": "code",
   "execution_count": 13,
   "metadata": {},
   "outputs": [],
   "source": [
    "filtered_items = [12415, 12342, 12311, 12355, 12312, 11734, 13923]"
   ]
  },
  {
   "cell_type": "code",
   "execution_count": 14,
   "metadata": {},
   "outputs": [
    {
     "name": "stderr",
     "output_type": "stream",
     "text": [
      "/home/geos/recsys/core/evaluation.py:21: SettingWithCopyWarning: \n",
      "A value is trying to be set on a copy of a slice from a DataFrame.\n",
      "Try using .loc[row_indexer,col_indexer] = value instead\n",
      "\n",
      "See the caveats in the documentation: http://pandas.pydata.org/pandas-docs/stable/indexing.html#indexing-view-versus-copy\n",
      "  right[\"right\"] = 1\n"
     ]
    },
    {
     "name": "stdout",
     "output_type": "stream",
     "text": [
      "      recall  global_precision  global_recall  precision  global_fpr       fpr\n",
      "1   0.029776          0.136448       0.026984   0.136448    0.000463  0.000638\n",
      "2   0.055737          0.131561       0.052034   0.131561    0.000811  0.001015\n",
      "3   0.079390          0.126772       0.075210   0.126772    0.001082  0.001279\n",
      "4   0.101487          0.122227       0.096685   0.122227    0.001299  0.001479\n",
      "5   0.124581          0.118620       0.117290   0.118620    0.001476  0.001637\n",
      "6   0.146314          0.116167       0.137837   0.116167    0.001622  0.001766\n",
      "7   0.166105          0.113688       0.157379   0.113688    0.001746  0.001873\n",
      "8   0.185594          0.111047       0.175684   0.111047    0.001852  0.001965\n",
      "9   0.204362          0.108754       0.193563   0.108754    0.001943  0.002044\n",
      "10  0.221354          0.106295       0.210206   0.106295    0.002023  0.002113\n"
     ]
    },
    {
     "data": {
      "text/plain": [
       "{1: {'fn': 50339.0,\n",
       "  'fp': 8835.0,\n",
       "  'fpr': 0.000637957413969735,\n",
       "  'global_fpr': 0.00046284690925921707,\n",
       "  'global_precision': 0.13644805004398397,\n",
       "  'global_recall': 0.026983666763313038,\n",
       "  'precision': 0.13644805004398397,\n",
       "  'recall': 0.029775899272513475,\n",
       "  'tn': 19079550.0,\n",
       "  'tp': 1396.0},\n",
       " 2: {'fn': 49043.0,\n",
       "  'fp': 17770.0,\n",
       "  'fpr': 0.0010154349009326663,\n",
       "  'global_fpr': 0.0008109768940041333,\n",
       "  'global_precision': 0.1315609422343857,\n",
       "  'global_recall': 0.05203440610805064,\n",
       "  'precision': 0.1315609422343857,\n",
       "  'recall': 0.05573742549754548,\n",
       "  'tn': 21894075.0,\n",
       "  'tp': 2692.0},\n",
       " 3: {'fn': 47844.0,\n",
       "  'fp': 26802.0,\n",
       "  'fpr': 0.0012789635737458509,\n",
       "  'global_fpr': 0.0010822113597306173,\n",
       "  'global_precision': 0.12677157658097937,\n",
       "  'global_recall': 0.07521020585677007,\n",
       "  'precision': 0.1267715765809782,\n",
       "  'recall': 0.07938986540107075,\n",
       "  'tn': 24739155.0,\n",
       "  'tp': 3891.0},\n",
       " 4: {'fn': 46733.0,\n",
       "  'fp': 35922.0,\n",
       "  'fpr': 0.0014788779429828842,\n",
       "  'global_fpr': 0.0012992679329411078,\n",
       "  'global_precision': 0.12222656631805298,\n",
       "  'global_recall': 0.09668502947714314,\n",
       "  'precision': 0.12222656631805298,\n",
       "  'recall': 0.10148654473736797,\n",
       "  'tn': 27611955.0,\n",
       "  'tp': 5002.0},\n",
       " 5: {'fn': 45667.0,\n",
       "  'fp': 45087.0,\n",
       "  'fpr': 0.0016370095061950722,\n",
       "  'global_fpr': 0.0014761319704608598,\n",
       "  'global_precision': 0.11861988075456945,\n",
       "  'global_recall': 0.11729003575915724,\n",
       "  'precision': 0.11861988075457519,\n",
       "  'recall': 0.12458081426692247,\n",
       "  'tn': 30498930.0,\n",
       "  'tp': 6068.0},\n",
       " 6: {'fn': 44604.0,\n",
       "  'fp': 54255.0,\n",
       "  'fpr': 0.0017656337423086845,\n",
       "  'global_fpr': 0.001622404522817054,\n",
       "  'global_precision': 0.11616655263415111,\n",
       "  'global_recall': 0.13783705421861409,\n",
       "  'precision': 0.11616655263415163,\n",
       "  'recall': 0.14631406099820132,\n",
       "  'tn': 33386850.0,\n",
       "  'tp': 7131.0},\n",
       " 7: {'fn': 43593.0,\n",
       "  'fp': 63475.0,\n",
       "  'fpr': 0.0018730482568181156,\n",
       "  'global_fpr': 0.0017459951794304026,\n",
       "  'global_precision': 0.11368809081642627,\n",
       "  'global_recall': 0.15737895042041172,\n",
       "  'precision': 0.11368809081642386,\n",
       "  'recall': 0.16610495317594381,\n",
       "  'tn': 36291150.0,\n",
       "  'tp': 8142.0},\n",
       " 8: {'fn': 42646.0,\n",
       "  'fp': 72759.0,\n",
       "  'fpr': 0.0019648959616654052,\n",
       "  'global_fpr': 0.0018519221299311255,\n",
       "  'global_precision': 0.11104730720359691,\n",
       "  'global_recall': 0.17568377307432106,\n",
       "  'precision': 0.11104730720359691,\n",
       "  'recall': 0.1855938042589431,\n",
       "  'tn': 39215610.0,\n",
       "  'tp': 9089.0},\n",
       " 9: {'fn': 41721.0,\n",
       "  'fp': 82065.0,\n",
       "  'fpr': 0.0020440177921124255,\n",
       "  'global_fpr': 0.0019433297895655515,\n",
       "  'global_precision': 0.10875443912292705,\n",
       "  'global_recall': 0.1935633516961438,\n",
       "  'precision': 0.1087544391229185,\n",
       "  'recall': 0.20436155218649882,\n",
       "  'tn': 42147000.0,\n",
       "  'tp': 10014.0},\n",
       " 10: {'fn': 40860.0,\n",
       "  'fp': 91435.0,\n",
       "  'fpr': 0.00211327201542108,\n",
       "  'global_fpr': 0.002023346544593896,\n",
       "  'global_precision': 0.10629459485876258,\n",
       "  'global_recall': 0.21020585677007828,\n",
       "  'precision': 0.10629459485876619,\n",
       "  'recall': 0.22135402144193161,\n",
       "  'tn': 45098550.0,\n",
       "  'tp': 10875.0}}"
      ]
     },
     "execution_count": 14,
     "metadata": {},
     "output_type": "execute_result"
    }
   ],
   "source": [
    "pipeline.validate(test, filtered_items=filtered_items)\n",
    "# pipeline.predict(dataset).query('rank <= 5') \\\n",
    "#     .merge(dataset.users, on='userID') \\\n",
    "#     .merge(dataset.items, on='itemID')[['user', 'item', 'score', 'rank']] \\\n",
    "#     .to_csv(OUTPUT_PATH, index=False)\n"
   ]
  },
  {
   "cell_type": "code",
   "execution_count": 15,
   "metadata": {},
   "outputs": [
    {
     "name": "stderr",
     "output_type": "stream",
     "text": [
      "/home/geos/recsys/core/evaluation.py:21: SettingWithCopyWarning: \n",
      "A value is trying to be set on a copy of a slice from a DataFrame.\n",
      "Try using .loc[row_indexer,col_indexer] = value instead\n",
      "\n",
      "See the caveats in the documentation: http://pandas.pydata.org/pandas-docs/stable/indexing.html#indexing-view-versus-copy\n",
      "  right[\"right\"] = 1\n"
     ]
    },
    {
     "name": "stdout",
     "output_type": "stream",
     "text": [
      "      recall  global_precision  global_recall  precision  global_fpr       fpr\n",
      "1   0.036341          0.202326       0.037368   0.202326    0.000400  0.000578\n",
      "2   0.064620          0.176571       0.065222   0.176571    0.000726  0.000934\n",
      "3   0.088538          0.160818       0.089106   0.160818    0.000988  0.001190\n",
      "4   0.112466          0.151842       0.112176   0.151842    0.001199  0.001384\n",
      "5   0.135291          0.144385       0.133333   0.144385    0.001373  0.001540\n",
      "6   0.157027          0.138419       0.153389   0.138419    0.001519  0.001668\n",
      "7   0.176760          0.133809       0.172994   0.133809    0.001643  0.001776\n",
      "8   0.196316          0.129704       0.191642   0.129704    0.001749  0.001868\n",
      "9   0.215082          0.125751       0.209026   0.125751    0.001842  0.001948\n",
      "10  0.232172          0.122080       0.225472   0.122080    0.001923  0.002018\n"
     ]
    },
    {
     "data": {
      "text/plain": [
       "{1: {'fn': 53325.0,\n",
       "  'fp': 8161.0,\n",
       "  'fpr': 0.000578283596351475,\n",
       "  'global_fpr': 0.0003998601249008005,\n",
       "  'global_precision': 0.20232626331736878,\n",
       "  'global_recall': 0.03736799350121852,\n",
       "  'precision': 0.20232626331736878,\n",
       "  'recall': 0.03634100212419174,\n",
       "  'tn': 20401476.0,\n",
       "  'tp': 2070.0},\n",
       " 2: {'fn': 51782.0,\n",
       "  'fp': 16849.0,\n",
       "  'fpr': 0.0009344769933614317,\n",
       "  'global_fpr': 0.0007260255266766012,\n",
       "  'global_precision': 0.17657120516078584,\n",
       "  'global_recall': 0.06522249300478382,\n",
       "  'precision': 0.17657120516078584,\n",
       "  'recall': 0.06461951318105359,\n",
       "  'tn': 23190324.0,\n",
       "  'tp': 3613.0},\n",
       " 3: {'fn': 50459.0,\n",
       "  'fp': 25757.0,\n",
       "  'fpr': 0.0011899036853692511,\n",
       "  'global_fpr': 0.000987783612916453,\n",
       "  'global_precision': 0.16081842765451407,\n",
       "  'global_recall': 0.08910551493817132,\n",
       "  'precision': 0.16081842765451046,\n",
       "  'recall': 0.0885379810034581,\n",
       "  'tn': 26049792.0,\n",
       "  'tp': 4936.0},\n",
       " 4: {'fn': 49181.0,\n",
       "  'fp': 34710.0,\n",
       "  'fpr': 0.0013839794679530563,\n",
       "  'global_fpr': 0.0011986153247682927,\n",
       "  'global_precision': 0.15184243964421856,\n",
       "  'global_recall': 0.11217618918674971,\n",
       "  'precision': 0.15184243964421856,\n",
       "  'recall': 0.11246592465864574,\n",
       "  'tn': 28923705.0,\n",
       "  'tp': 6214.0},\n",
       " 5: {'fn': 48009.0,\n",
       "  'fp': 43769.0,\n",
       "  'fpr': 0.0015398822701764671,\n",
       "  'global_fpr': 0.0013731273066171722,\n",
       "  'global_precision': 0.14438471312677156,\n",
       "  'global_recall': 0.13333333333333333,\n",
       "  'precision': 0.1443847131267802,\n",
       "  'recall': 0.13529103115999278,\n",
       "  'tn': 31831644.0,\n",
       "  'tp': 7386.0},\n",
       " 6: {'fn': 46898.0,\n",
       "  'fp': 52889.0,\n",
       "  'fpr': 0.0016683530187530638,\n",
       "  'global_fpr': 0.0015192726496193719,\n",
       "  'global_precision': 0.1384191835271886,\n",
       "  'global_recall': 0.1533892950627313,\n",
       "  'precision': 0.13841918352719104,\n",
       "  'recall': 0.1570266250752671,\n",
       "  'tn': 34759164.0,\n",
       "  'tp': 8497.0},\n",
       " 7: {'fn': 45812.0,\n",
       "  'fp': 62034.0,\n",
       "  'fpr': 0.0017757400882766842,\n",
       "  'global_fpr': 0.0016429912929724897,\n",
       "  'global_precision': 0.1338090118268009,\n",
       "  'global_recall': 0.17299395252279087,\n",
       "  'precision': 0.13380901182679558,\n",
       "  'recall': 0.17676036658704075,\n",
       "  'tn': 37694709.0,\n",
       "  'tp': 9583.0},\n",
       " 8: {'fn': 44779.0,\n",
       "  'fp': 71232.0,\n",
       "  'fpr': 0.0018676845960526709,\n",
       "  'global_fpr': 0.0017493768618533803,\n",
       "  'global_precision': 0.12970384126673834,\n",
       "  'global_recall': 0.19164184493185304,\n",
       "  'precision': 0.12970384126673834,\n",
       "  'recall': 0.19631646175255715,\n",
       "  'tn': 40647267.0,\n",
       "  'tp': 10616.0},\n",
       " 9: {'fn': 43816.0,\n",
       "  'fp': 80500.0,\n",
       "  'fpr': 0.0019476533463798369,\n",
       "  'global_fpr': 0.0018419874518323142,\n",
       "  'global_precision': 0.12575071406075217,\n",
       "  'global_recall': 0.20902608538676776,\n",
       "  'precision': 0.1257507140607413,\n",
       "  'recall': 0.215082136558986,\n",
       "  'tn': 43622295.0,\n",
       "  'tp': 11579.0},\n",
       " 10: {'fn': 42905.0,\n",
       "  'fp': 89820.0,\n",
       "  'fpr': 0.0020178457310575993,\n",
       "  'global_fpr': 0.0019231825395066595,\n",
       "  'global_precision': 0.12207995308376503,\n",
       "  'global_recall': 0.22547161296145862,\n",
       "  'precision': 0.12207995308376522,\n",
       "  'recall': 0.23217229878575732,\n",
       "  'tn': 46614015.0,\n",
       "  'tp': 12490.0}}"
      ]
     },
     "execution_count": 15,
     "metadata": {},
     "output_type": "execute_result"
    }
   ],
   "source": [
    "pipeline.validate(test, filtered_items=None)"
   ]
  },
  {
   "cell_type": "code",
   "execution_count": null,
   "metadata": {},
   "outputs": [],
   "source": []
  },
  {
   "cell_type": "code",
   "execution_count": null,
   "metadata": {},
   "outputs": [],
   "source": []
  }
 ],
 "metadata": {
  "kernelspec": {
   "display_name": "Python 3",
   "language": "python",
   "name": "python3"
  },
  "language_info": {
   "codemirror_mode": {
    "name": "ipython",
    "version": 3
   },
   "file_extension": ".py",
   "mimetype": "text/x-python",
   "name": "python",
   "nbconvert_exporter": "python",
   "pygments_lexer": "ipython3",
   "version": "3.5.2"
  }
 },
 "nbformat": 4,
 "nbformat_minor": 2
}
